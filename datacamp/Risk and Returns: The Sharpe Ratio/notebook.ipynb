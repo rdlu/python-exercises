{
 "cells": [
  {
   "cell_type": "code",
   "execution_count": 2,
   "metadata": {},
   "outputs": [],
   "source": [
    "import numpy as np"
   ]
  },
  {
   "cell_type": "code",
   "execution_count": 5,
   "metadata": {},
   "outputs": [
    {
     "output_type": "execute_result",
     "data": {
      "text/plain": "92"
     },
     "metadata": {},
     "execution_count": 5
    }
   ],
   "source": [
    "N = 100\n",
    "np.random.randint(low=0, high=N, size=int(0.75 * N))"
   ]
  }
 ],
 "metadata": {
  "language_info": {
   "codemirror_mode": {
    "name": "ipython",
    "version": 3
   },
   "file_extension": ".py",
   "mimetype": "text/x-python",
   "name": "python",
   "nbconvert_exporter": "python",
   "pygments_lexer": "ipython3",
   "version": "3.8.2-final"
  },
  "orig_nbformat": 2,
  "kernelspec": {
   "name": "python38264bitexercisesenvvenv51e4cb4c27ae4cf49455685fcd308984",
   "display_name": "Python 3.8.2 64-bit ('exercises-env': venv)"
  }
 },
 "nbformat": 4,
 "nbformat_minor": 2
}