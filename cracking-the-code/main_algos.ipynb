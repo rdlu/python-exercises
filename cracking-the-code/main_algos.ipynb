{
 "cells": [
  {
   "cell_type": "markdown",
   "metadata": {},
   "source": [
    "## Strings and Lists\n",
    "\n",
    "### First Unique Item"
   ]
  },
  {
   "cell_type": "code",
   "execution_count": 1,
   "metadata": {},
   "outputs": [],
   "source": [
    "# Time O(n), Space O(1), PyNaive\n",
    "def first_unique_item(list):\n",
    "    hash_table = {}\n",
    "    for item in list:\n",
    "        if item in hash_table:\n",
    "            hash_table[item] = hash_table[item] + 1\n",
    "        else:\n",
    "            hash_table[item] = 1\n",
    "\n",
    "    for i, item in enumerate(list):\n",
    "        if hash_table[item] == 1:\n",
    "            return item\n",
    "    return None"
   ]
  },
  {
   "cell_type": "code",
   "execution_count": 2,
   "metadata": {},
   "outputs": [],
   "source": [
    "assert first_unique_item('mmmok') == 'o'\n",
    "assert first_unique_item('mmm') == None\n",
    "assert first_unique_item('abc') == 'a'\n",
    "assert first_unique_item([1, 1, 2, 1]) == 2"
   ]
  },
  {
   "cell_type": "code",
   "execution_count": 3,
   "metadata": {},
   "outputs": [],
   "source": [
    "# Pythonic libs, Counter is O(n)\n",
    "from collections import Counter\n",
    "\n",
    "def first_unique_item(list):\n",
    "    hash_set = Counter(list)\n",
    "    for i, item in enumerate(list):\n",
    "        if hash_set[item] == 1:\n",
    "            return item\n",
    "    return None"
   ]
  },
  {
   "cell_type": "code",
   "execution_count": 4,
   "metadata": {},
   "outputs": [],
   "source": [
    "assert first_unique_item('mmmok') == 'o'\n",
    "assert first_unique_item('mmm') == None\n",
    "assert first_unique_item('abc') == 'a'\n",
    "assert first_unique_item([1, 1, 2, 1]) == 2"
   ]
  },
  {
   "cell_type": "markdown",
   "metadata": {},
   "source": [
    "### Group Anagrams"
   ]
  },
  {
   "cell_type": "code",
   "execution_count": 5,
   "metadata": {},
   "outputs": [],
   "source": [
    "# Time O(n * m log m), due sorting, m = longest string; Space O(1), PyNaive\n",
    "def group_anagrams(strings):\n",
    "    hash_table = {}\n",
    "    for item in strings:\n",
    "        sorted_item = ''.join(sorted(item))\n",
    "        if sorted_item in hash_table:\n",
    "            hash_table[sorted_item].append(item)\n",
    "        else:\n",
    "            hash_table[sorted_item] = [item]\n",
    "    return hash_table.values()"
   ]
  },
  {
   "cell_type": "code",
   "execution_count": 6,
   "metadata": {},
   "outputs": [],
   "source": [
    "assert list(group_anagrams(['ab', 'ba', 'aac'])) == [['ab', 'ba'], ['aac']]\n",
    "assert list(group_anagrams(['pato', 'topa', 'opta', 'opt', 'pote'])) == [['pato', 'topa', 'opta'], ['opt'], ['pote']]"
   ]
  },
  {
   "cell_type": "markdown",
   "metadata": {},
   "source": [
    "### Valid Palindrome"
   ]
  },
  {
   "cell_type": "code",
   "execution_count": 7,
   "metadata": {},
   "outputs": [],
   "source": [
    "# Time O(n), Space O(n)\n",
    "def is_palindrome(string):\n",
    "    string = ''.join(filter(str.isalnum, string)).lower()\n",
    "    return string == ''.join(reversed(string))"
   ]
  },
  {
   "cell_type": "code",
   "execution_count": 8,
   "metadata": {},
   "outputs": [],
   "source": [
    "assert is_palindrome('radar') == True\n",
    "assert is_palindrome('A trade. Right?') == False"
   ]
  },
  {
   "cell_type": "code",
   "execution_count": 9,
   "metadata": {},
   "outputs": [],
   "source": [
    "# Time O(n), Space O(1)\n",
    "def is_palindrome(string):\n",
    "    string = ''.join(filter(str.isalnum, string)).lower()\n",
    "    left, right = 0, len(string) - 1\n",
    "    while left < right:\n",
    "        if string[left] != string[right]:\n",
    "            return False\n",
    "        left = left + 1\n",
    "        right = right - 1\n",
    "    return True"
   ]
  },
  {
   "cell_type": "code",
   "execution_count": 10,
   "metadata": {},
   "outputs": [],
   "source": [
    "assert is_palindrome('radar') == True\n",
    "assert is_palindrome('A trade. Right?') == False\n",
    "assert is_palindrome('A base do teto desaba.') == True"
   ]
  },
  {
   "cell_type": "markdown",
   "metadata": {},
   "source": [
    "### Valid Parentheses"
   ]
  },
  {
   "cell_type": "code",
   "execution_count": 11,
   "metadata": {},
   "outputs": [],
   "source": [
    "# Time O(n), Space O(n)\n",
    "def is_balanced_parentheses(string):\n",
    "    stack = []\n",
    "    pairs = {\n",
    "        '(': ')',\n",
    "        '{': '}',\n",
    "        '[': ']'\n",
    "    }\n",
    "    for char in string:\n",
    "        if char in pairs:\n",
    "            stack.append(char)\n",
    "        else:\n",
    "            if len(stack) <= 0:\n",
    "                return False\n",
    "            last = stack.pop()\n",
    "            if pairs[last] != char:\n",
    "                return False\n",
    "    if len(stack) > 0:\n",
    "        return False\n",
    "    else:\n",
    "        return True"
   ]
  },
  {
   "cell_type": "code",
   "execution_count": 12,
   "metadata": {},
   "outputs": [],
   "source": [
    "assert is_balanced_parentheses('[({})]') == True\n",
    "assert is_balanced_parentheses('][') == False\n",
    "assert is_balanced_parentheses('([)]') == False\n",
    "assert is_balanced_parentheses('([[])') == False\n",
    "assert is_balanced_parentheses('') == True"
   ]
  },
  {
   "cell_type": "markdown",
   "metadata": {},
   "source": [
    "### Search Insert Position\n",
    "\n",
    "a.k.a. Binary Search\n",
    "\n",
    "Time: O(log n) in a sorted list; Space O(1), pointers lo,mid,hi only"
   ]
  },
  {
   "cell_type": "code",
   "execution_count": 13,
   "metadata": {},
   "outputs": [],
   "source": [
    "def search_insert(list, target):\n",
    "    lo, hi = 0, len(list) - 1\n",
    "    while lo <= hi:\n",
    "        mid = (hi + lo) // 2\n",
    "        mid_val = list[mid]\n",
    "        if target == mid:\n",
    "            return mid\n",
    "        elif target > mid_val:\n",
    "            lo = mid + 1\n",
    "        else:\n",
    "            hi = mid - 1\n",
    "    return lo"
   ]
  },
  {
   "cell_type": "code",
   "execution_count": 14,
   "metadata": {},
   "outputs": [],
   "source": [
    "lst = [1, 2, 4, 5]\n",
    "assert search_insert(lst, 4) == lst.index(4)\n",
    "assert search_insert(lst, 3) == 2\n",
    "assert search_insert(lst, lst[-1] + 1) == len(lst)\n",
    "assert search_insert(lst, lst[0] - 1) == 0\n",
    "assert search_insert([], 5) == 0"
   ]
  },
  {
   "cell_type": "markdown",
   "metadata": {},
   "source": [
    "### Rotate Image / Matrix\n",
    "Inputs: Matrix, list of list, n x n\n",
    "Time: O(n²), Space O(1)"
   ]
  },
  {
   "cell_type": "code",
   "execution_count": 15,
   "metadata": {},
   "outputs": [],
   "source": [
    "def rotate(matrix):\n",
    "    matrix.reverse()\n",
    "    for i in range(len(matrix)):\n",
    "        for j in range(i):\n",
    "            matrix[j][i], matrix[i][j] = matrix[i][j], matrix[j][i]\n",
    "    return matrix"
   ]
  },
  {
   "cell_type": "code",
   "execution_count": 16,
   "metadata": {},
   "outputs": [],
   "source": [
    "assert rotate([[1,2,3],[4,5,6],[7,8,9]]) == [[7, 4, 1], [8, 5, 2], [9, 6, 3]]\n",
    "assert rotate([[1,2],[4,5]]) == [[4, 1], [5, 2]]\n",
    "assert rotate([[1,2,3],[4,5,6]]) == [[4, 1, 6], [5, 2, 3]] # This is weird: a limitation, no n x m"
   ]
  },
  {
   "cell_type": "markdown",
   "metadata": {},
   "source": [
    "### Two Sum\n",
    "\n",
    "Input: Array, Target Sum\n",
    "Outputs: Indices of the array\n",
    "\n",
    "Time O(n), Space O(n)"
   ]
  },
  {
   "cell_type": "code",
   "execution_count": 17,
   "metadata": {},
   "outputs": [],
   "source": [
    "# Naive, Time O(n^2), Space O(1)\n",
    "def two_sum(lst, target):\n",
    "    for i, num in enumerate(lst):\n",
    "        want = target - num\n",
    "        for j in range(i+1, len(lst)):\n",
    "            if lst[j] == want:\n",
    "                return [i, j]"
   ]
  },
  {
   "cell_type": "code",
   "execution_count": 18,
   "metadata": {},
   "outputs": [],
   "source": [
    "lst, want = [1,2,3,4,5,6], 6\n",
    "i, j = two_sum(lst, want)\n",
    "assert lst[i] + lst[j] == want"
   ]
  },
  {
   "cell_type": "code",
   "execution_count": 19,
   "metadata": {},
   "outputs": [],
   "source": [
    "# Hash Table, Time O(n), Space O(n)\n",
    "def two_sum(lst, target):\n",
    "    hash_table = {}\n",
    "    for i, num in enumerate(lst):\n",
    "        want = target - num\n",
    "        if want in hash_table:\n",
    "            return [hash_table[want], i]\n",
    "        else:\n",
    "            hash_table[num] = i"
   ]
  },
  {
   "cell_type": "code",
   "execution_count": 20,
   "metadata": {},
   "outputs": [],
   "source": [
    "lst, want = [1,2,3,4,5,6], 6\n",
    "i, j = two_sum(lst, want)\n",
    "assert lst[i] + lst[j] == want"
   ]
  },
  {
   "cell_type": "markdown",
   "metadata": {},
   "source": [
    "### Three Sum\n",
    "Triplets that sum zero\n",
    "\n",
    "Input: List of nums, with duplicates\n",
    "Output: List of lists of solutions, no duplicates"
   ]
  },
  {
   "cell_type": "code",
   "execution_count": 21,
   "metadata": {},
   "outputs": [],
   "source": [
    "def three_sum(lst):\n",
    "    output = []\n",
    "    lst.sort()\n",
    "    n = len(lst)\n",
    "    for i in range(n):\n",
    "        left, right = i+1, n-1\n",
    "        if i > 0 and lst[i-1] == lst[i]: continue # for base pointer, skip duplicate\n",
    "        while left < right:\n",
    "            total = lst[i] + lst[left] + lst[right]\n",
    "            if total == 0:\n",
    "                output.append([lst[i], lst[left], lst[right]])\n",
    "                # for left pointer, skip duplicate\n",
    "                while left < right and lst[left + 1] == lst[left]:\n",
    "                    left += 1\n",
    "                # for right pointer, skip duplicate\n",
    "                while left < right and lst[right - 1] == lst[right]:\n",
    "                    right -= 1\n",
    "                left += 1\n",
    "                right -= 1\n",
    "            elif total > 0:\n",
    "                right -= 1\n",
    "            else:\n",
    "                left += 1\n",
    "    return output"
   ]
  },
  {
   "cell_type": "code",
   "execution_count": 22,
   "metadata": {},
   "outputs": [],
   "source": [
    "assert three_sum([-1, 0, 1, 2, -1, 10]) == [[-1, -1, 2], [-1, 0, 1]]"
   ]
  },
  {
   "cell_type": "markdown",
   "metadata": {},
   "source": [
    "## Linked Lists\n",
    "### Delete nth node from the end\n",
    "\n",
    "Time O(n), Space O(1)"
   ]
  },
  {
   "cell_type": "code",
   "execution_count": 23,
   "metadata": {},
   "outputs": [],
   "source": [
    "class ListNode:\n",
    "    def __init__(self, value):\n",
    "        self.value = value\n",
    "        self.next = None\n",
    "\n",
    "def remove_nth_member(head, n):\n",
    "    # length\n",
    "    on = head\n",
    "    length = 1\n",
    "    while on:\n",
    "        length += 1\n",
    "        on = on.next\n",
    "    left_index = length - n - 1\n",
    "    # head deletion, edge case\n",
    "    if left_index == 0: return head.next\n",
    "    # adjust pointers for removal\n",
    "    on = head\n",
    "    while left_index > 1:\n",
    "        left_index -= 1\n",
    "        on = on.next\n",
    "    on.next = on.next.next\n",
    "    return head"
   ]
  },
  {
   "cell_type": "markdown",
   "metadata": {},
   "source": [
    "### Reverse Linked List\n",
    "\n",
    "Inputs/Outputs: head of a linked list\n",
    "\n",
    "Time O(n); Space O(1)"
   ]
  },
  {
   "cell_type": "code",
   "execution_count": 24,
   "metadata": {},
   "outputs": [],
   "source": [
    "def reverse_linked_list(head):\n",
    "    on = head\n",
    "    previous = None\n",
    "    while on:\n",
    "        nxt = on.next\n",
    "        on.next = previous\n",
    "        previous = on\n",
    "        on = nxt\n",
    "    return prev"
   ]
  },
  {
   "cell_type": "code",
   "execution_count": 25,
   "metadata": {},
   "outputs": [],
   "source": [
    "# Space O(1) due to being tail recursion\n",
    "def reverse_linked_list(on, prev = None):\n",
    "    if on is None:\n",
    "        return prev\n",
    "    nxt = on.next\n",
    "    on.next = previous\n",
    "    return reverse_linked_list(nxt, on)"
   ]
  },
  {
   "cell_type": "markdown",
   "metadata": {},
   "source": [
    "### Linked List Cycle detection\n",
    "\n",
    "Edge Case: List of 1 item\n",
    "\n",
    "Time O(n); Space O(n), hash set"
   ]
  },
  {
   "cell_type": "code",
   "execution_count": 26,
   "metadata": {},
   "outputs": [],
   "source": [
    "def linked_list_cycle(head):\n",
    "    nodes = set()\n",
    "    on = head\n",
    "    while on:\n",
    "        if on in nodes: return True\n",
    "        nodes.add(on)\n",
    "        on = on.next\n",
    "    return False"
   ]
  },
  {
   "cell_type": "code",
   "execution_count": 27,
   "metadata": {},
   "outputs": [],
   "source": [
    "# Floyd's Algorithm; Turtle & Hare (hare pointer advances faster)\n",
    "# Time O(n), but is n / 2; Space O(1)\n",
    "def linked_list_cycle(head):\n",
    "    slow = fast = head\n",
    "    while fast and fast.next:\n",
    "        slow = slow.next\n",
    "        fast = fast.next.next\n",
    "        if slow == fast: return True\n",
    "    return False"
   ]
  },
  {
   "cell_type": "markdown",
   "metadata": {},
   "source": [
    "## Binary Trees\n",
    "\n",
    "### Level transversal - BFS\n",
    "\n",
    "Time O(n); Space O(n)"
   ]
  },
  {
   "cell_type": "code",
   "execution_count": 28,
   "metadata": {},
   "outputs": [],
   "source": [
    "class TreeNode:\n",
    "    def __init__(self, item):\n",
    "        self.value = item\n",
    "        self.left = None\n",
    "        self.right = None\n",
    "\n",
    "def bfs(root):\n",
    "    levels = []\n",
    "    queue = [root]\n",
    "    while queue:\n",
    "        size = len(queue)\n",
    "        level = []\n",
    "        while size:\n",
    "            item = queue.pop(0)\n",
    "            level.append(item.value)\n",
    "            if item.left: queue.append(item.left)\n",
    "            if item.right: queue.append(item.right)\n",
    "            size -= 1\n",
    "        levels.append(level)\n",
    "    return levels"
   ]
  },
  {
   "cell_type": "markdown",
   "metadata": {},
   "source": [
    "### Max Depth\n",
    "\n",
    "Time O(n); Space O(k), k as height"
   ]
  },
  {
   "cell_type": "code",
   "execution_count": 29,
   "metadata": {},
   "outputs": [],
   "source": [
    "def max_depth_dfs(root):\n",
    "    if not root: return 0\n",
    "    return max(max_depth_dfs(root.left), max_depth_dfs(root.right)) + 1\n"
   ]
  },
  {
   "cell_type": "code",
   "execution_count": 30,
   "metadata": {},
   "outputs": [],
   "source": [
    "def max_depth_bfs(root):\n",
    "    if not root: return 0\n",
    "    queue = [root]\n",
    "    depth = 0\n",
    "    while queue:\n",
    "        size = len(queue)\n",
    "        depth += 1\n",
    "        while size:\n",
    "            item = queue.pop(0)\n",
    "            level.append(item.value)\n",
    "            if item.left: queue.append(item.left)\n",
    "            if item.right: queue.append(item.right)\n",
    "            size -= 1\n",
    "    return depth"
   ]
  },
  {
   "cell_type": "markdown",
   "metadata": {},
   "source": [
    "### Validate BST\n",
    "\n",
    "Time O(n); Space O(n)"
   ]
  },
  {
   "cell_type": "code",
   "execution_count": 31,
   "metadata": {},
   "outputs": [],
   "source": [
    "import sys\n",
    "def is_valid_bst(root, lower=sys.maxsize+1, upper=sys.maxsize):\n",
    "    if not root: \n",
    "        return True\n",
    "    if root.value <= lower or root.value >= upper:\n",
    "        return False\n",
    "    return is_valid_bst(root.left, lower, root.value) and is_valid_bst(root.right, root.value, upper)"
   ]
  },
  {
   "cell_type": "markdown",
   "metadata": {},
   "source": [
    "### Balanced Binary Tree\n",
    "\n",
    "Time O(n^2); Space O(n)"
   ]
  },
  {
   "cell_type": "code",
   "execution_count": 32,
   "metadata": {},
   "outputs": [],
   "source": [
    "def is_balanced_bst(root):\n",
    "    if not root:\n",
    "        return 0\n",
    "    left_height = max_depth_dfs(root.left)\n",
    "    right_height = max_depth_dfs(root.right)\n",
    "    height_delta = abs(left_height - right_height)\n",
    "    return height_delta <= 1 and is_balanced_bst(root.left) and is_balanced_bst(root.right)"
   ]
  },
  {
   "cell_type": "markdown",
   "metadata": {},
   "source": [
    "## Sort\n",
    "### Merge Sort\n",
    "\n",
    "Time O(n log n) and stable (multiple order criteria are considered);\n",
    "Space O(n), each sublist is half, but we have a n/2^n series (approaches n)"
   ]
  },
  {
   "cell_type": "code",
   "execution_count": null,
   "metadata": {},
   "outputs": [],
   "source": [
    "def merge_sort(lst):\n",
    "    if len(lst) <= 1: \n",
    "        return lst\n",
    "    \n",
    "    mid = len(lst) // 2\n",
    "    left = lst[:mid]\n",
    "    right = lst[mid:]\n",
    "\n",
    "    left = merge_sort(left)\n",
    "    right = merge_sort(right)\n",
    "\n",
    "    block = []\n",
    "    l = r = 0\n",
    "\n",
    "    while l < len(left) and r < len(right):\n",
    "        if left[l] < right[r]: \n",
    "            block.append(left[l])\n",
    "            l += 1\n",
    "        else: \n",
    "            block.append(right[r])\n",
    "            r += 1\n",
    "\n",
    "    if l < len(left):\n",
    "        block += left[l:]\n",
    "    elif r < len(right):\n",
    "        block += right[r:]\n",
    "\n",
    "    return block"
   ]
  },
  {
   "cell_type": "markdown",
   "metadata": {},
   "source": [
    "## Dynamic programming\n",
    "### Buy Sell Stock\n",
    "it's a small problem to solve before going deeper, best value is memoized each iteration\n",
    "\n",
    "Time O(n), Space O(1)"
   ]
  },
  {
   "cell_type": "code",
   "execution_count": 6,
   "metadata": {},
   "outputs": [],
   "source": [
    "import sys\n",
    "def profit_list(prices):\n",
    "    lowest = sys.maxsize\n",
    "    best = 0\n",
    "    for price in prices:\n",
    "        profit = price - lowest\n",
    "        if price < lowest: lowest = price\n",
    "        if profit > best: best = profit\n",
    "    return best"
   ]
  },
  {
   "cell_type": "code",
   "execution_count": 8,
   "metadata": {},
   "outputs": [],
   "source": [
    "assert profit_list([7, 1, 5, 3, 6]) == 5"
   ]
  },
  {
   "cell_type": "markdown",
   "metadata": {},
   "source": [
    "### Coin Change\n",
    "\n",
    "What's the least number of coins viable to give change? (we didn's say anything about their face value)\n",
    "\n",
    "Time O(n*k), n as amount, k as number of coins; Space O(n)"
   ]
  },
  {
   "cell_type": "code",
   "execution_count": 10,
   "metadata": {},
   "outputs": [],
   "source": [
    "def coin_change(coins, amount):\n",
    "    dp = [0] + ([sys.maxsize] * amount)\n",
    "    for i, _value in enumerate(dp):\n",
    "        for coin in coins:\n",
    "            if coin <= i:\n",
    "                dp[i] = min(dp[i], dp[i - coin] + 1)\n",
    "    min_coins = dp[-1]\n",
    "    if min_coins == sys.maxsize: return -1\n",
    "    return min_coins"
   ]
  },
  {
   "cell_type": "code",
   "execution_count": 19,
   "metadata": {},
   "outputs": [],
   "source": [
    "assert coin_change([2], 3) == -1 # impossible change\n",
    "assert coin_change([1, 2, 5], 11) == 3\n",
    "assert coin_change([1,5,10,25,50,100], 90) == 4\n",
    "assert coin_change([1,5,10,25,50,100], 95) == 4"
   ]
  },
  {
   "cell_type": "markdown",
   "metadata": {},
   "source": [
    "### Longest Common Subsequence\n",
    "\n",
    "Inputs: 2 strings; Output: number of the longest Subsequence\n",
    "\n",
    "This needs some explanation:\n",
    "This a 2 dimension DP.\n",
    "We need a matrix seq + 1 x subseq +1 of dynamic programming to track.\n",
    "The \"plus 1\" is for backtracking without errors, the direct i,j is for carrying the current state\n",
    "\n",
    "Time O(n \\* m), lengths of two strings, Space O(n \\* m)"
   ]
  },
  {
   "cell_type": "code",
   "execution_count": 23,
   "metadata": {},
   "outputs": [],
   "source": [
    "def lcs(seq, subseq):\n",
    "    len1, len2 = len(seq), len(subseq)\n",
    "    dp = [[0] * (len2 + 1) for _ in range(len1 + 1)]\n",
    "    for i in range(len1):\n",
    "        for j in range(len2):\n",
    "            if seq[i] == subseq[j]:\n",
    "                dp[i+1][j+1] = dp[i][j] + 1\n",
    "            else:\n",
    "                dp[i+1][j+1] = max(dp[i+1][j], dp[i][j+1])\n",
    "    return dp[-1][-1]"
   ]
  },
  {
   "cell_type": "code",
   "execution_count": 25,
   "metadata": {},
   "outputs": [],
   "source": [
    "assert lcs('abcdef', 'ace') == 3"
   ]
  },
  {
   "cell_type": "markdown",
   "metadata": {},
   "source": [
    "## Sets\n",
    "\n",
    "### Subsets, powerset\n",
    "\n",
    "With a set as a input, return all possible powersets\n",
    "\n",
    "Time O(n\\*2^n), exponential; Space(2^n)"
   ]
  },
  {
   "cell_type": "code",
   "execution_count": null,
   "metadata": {},
   "outputs": [],
   "source": [
    "def powerset(nums):\n",
    "    bookmark_queue = [[]]\n",
    "    for num in nums:\n",
    "        sz = len(bookmark_queue)\n",
    "        for cur in bookmark_queue:\n",
    "            if sz == 0: break\n",
    "            copy_cur = cur[:]\n",
    "            copy_cur.append(num)\n",
    "            bookmark_queue.append(copy_cur)\n",
    "            sz -= 1\n",
    "    return bookmark_queue"
   ]
  },
  {
   "cell_type": "code",
   "execution_count": null,
   "metadata": {},
   "outputs": [],
   "source": [
    "def powerset(nums):\n",
    "    bookmark_queue = [[]]\n",
    "    for num in nums:\n",
    "        bookmark_queue.append([cur + [num] for cur in bookmark_queue])\n",
    "    return bookmark_queue"
   ]
  },
  {
   "cell_type": "markdown",
   "metadata": {},
   "source": [
    "### First unique item"
   ]
  },
  {
   "cell_type": "code",
   "execution_count": 1,
   "metadata": {},
   "outputs": [],
   "source": [
    "# Pythonic libs, Counter is O(n)\n",
    "from collections import Counter\n",
    "def first_unique_item(list):\n",
    "    hash_set = Counter(list)\n",
    "    return hash_set"
   ]
  },
  {
   "cell_type": "code",
   "execution_count": 14,
   "metadata": {
    "tags": []
   },
   "outputs": [
    {
     "output_type": "stream",
     "name": "stdout",
     "text": "a\n2\ns\n2\n"
    }
   ],
   "source": [
    "for i, a in first_unique_item('asas').items():\n",
    "    print(i)\n",
    "    print(a)"
   ]
  },
  {
   "cell_type": "code",
   "execution_count": null,
   "metadata": {},
   "outputs": [],
   "source": []
  }
 ],
 "metadata": {
  "language_info": {
   "codemirror_mode": {
    "name": "ipython",
    "version": 3
   },
   "file_extension": ".py",
   "mimetype": "text/x-python",
   "name": "python",
   "nbconvert_exporter": "python",
   "pygments_lexer": "ipython3",
   "version": "3.8.3-final"
  },
  "orig_nbformat": 2,
  "kernelspec": {
   "name": "python38364bitcec949f3981c49cea274a66e8a71487a",
   "display_name": "Python 3.8.3 64-bit"
  }
 },
 "nbformat": 4,
 "nbformat_minor": 2
}