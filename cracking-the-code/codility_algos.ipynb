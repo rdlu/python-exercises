{
 "metadata": {
  "language_info": {
   "codemirror_mode": {
    "name": "ipython",
    "version": 3
   },
   "file_extension": ".py",
   "mimetype": "text/x-python",
   "name": "python",
   "nbconvert_exporter": "python",
   "pygments_lexer": "ipython3",
   "version": 3
  },
  "orig_nbformat": 2,
  "kernelspec": {
   "name": "python_defaultSpec_1595531436119",
   "display_name": "Python 3.8.3 64-bit"
  }
 },
 "nbformat": 4,
 "nbformat_minor": 2,
 "cells": [
  {
   "cell_type": "markdown",
   "metadata": {},
   "source": [
    "# Codility Platform Tests\n",
    "## Binary Gap"
   ]
  },
  {
   "cell_type": "code",
   "execution_count": 1,
   "metadata": {},
   "outputs": [],
   "source": [
    "def binary_gap(N):\n",
    "    binary = \"{0:b}\".format(N).rstrip('0')\n",
    "    return len(max(binary.split(\"1\"),key=len))"
   ]
  },
  {
   "cell_type": "code",
   "execution_count": 9,
   "metadata": {},
   "outputs": [],
   "source": [
    "assert binary_gap(1041) == 5\n",
    "assert binary_gap(15) == 0\n",
    "assert binary_gap(32) == 0\n",
    "assert binary_gap(1001) == 2\n",
    "assert binary_gap(2147483647) == 0"
   ]
  },
  {
   "cell_type": "markdown",
   "metadata": {},
   "source": [
    "## Cyclic Rotation, Rotate Right"
   ]
  },
  {
   "cell_type": "code",
   "execution_count": 11,
   "metadata": {},
   "outputs": [],
   "source": [
    "def cyclic_rotation(A, K):\n",
    "    l = A\n",
    "    if not l:\n",
    "        return l\n",
    "    for x in range(K):\n",
    "        a = l.pop()\n",
    "        l.insert(0, a)\n",
    "\n",
    "    return l"
   ]
  },
  {
   "cell_type": "code",
   "execution_count": 27,
   "metadata": {},
   "outputs": [],
   "source": [
    "assert cyclic_rotation([3, 8, 9, 7, 6], 3) == [9, 7, 6, 3, 8]\n",
    "assert cyclic_rotation([1, 2, 3, 4], 4) == [1, 2, 3, 4]\n",
    "assert cyclic_rotation([],0) == []"
   ]
  },
  {
   "cell_type": "code",
   "execution_count": 23,
   "metadata": {},
   "outputs": [],
   "source": [
    "def cyclic_rotation_2(a, k):\n",
    "    if not a:\n",
    "        return a\n",
    "    # if the size of k > len(a), rotate only necessary with\n",
    "    # module of the division\n",
    "    rotations = k % len(a)\n",
    "    return a[-rotations:] + a[:-rotations]"
   ]
  },
  {
   "cell_type": "code",
   "execution_count": 26,
   "metadata": {},
   "outputs": [],
   "source": [
    "assert cyclic_rotation_2([3, 8, 9, 7, 6], 3) == [9, 7, 6, 3, 8]\n",
    "assert cyclic_rotation_2([1, 2, 3, 4], 4) == [1, 2, 3, 4]\n",
    "assert cyclic_rotation_2([],0) == []"
   ]
  }
 ]
}