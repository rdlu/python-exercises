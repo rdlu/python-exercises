{
 "cells": [
  {
   "cell_type": "code",
   "execution_count": 1,
   "metadata": {
    "collapsed": true
   },
   "outputs": [
    {
     "name": "stderr",
     "output_type": "stream",
     "text": [
      "/home/rdlu/.virtualenvs/exercises-env/lib/python3.8/site-packages/pandas_datareader/compat/__init__.py:7: FutureWarning: pandas.util.testing is deprecated. Use the functions in the public API at pandas.testing instead.\n",
      "  from pandas.util.testing import assert_frame_equal\n"
     ]
    }
   ],
   "source": [
    "import yfinance as yf\n",
    "from datetime import datetime\n",
    "import pandas_datareader.data as web\n",
    "import os\n",
    "os.environ[\"IEX_API_KEY\"] = \"pk_f5039a4f570e47c380fe2315143c0bad\"\n",
    "os.environ[\"ALPHAVANTAGE_API_KEY\"] = \"VYUAGQZBBAGICHHH\""
   ]
  },
  {
   "cell_type": "code",
   "execution_count": 6,
   "outputs": [
    {
     "data": {
      "text/plain": "yfinance.Ticker object <MXRF11.SA>"
     },
     "execution_count": 6,
     "metadata": {},
     "output_type": "execute_result"
    }
   ],
   "source": [
    "msft = yf.Ticker(\"MXRF11.SA\")\n",
    "msft"
   ],
   "metadata": {
    "collapsed": false,
    "pycharm": {
     "name": "#%%\n"
    }
   }
  },
  {
   "cell_type": "code",
   "execution_count": 9,
   "outputs": [
    {
     "data": {
      "text/plain": "             Open   High    Low  Close  Volume  Dividends  Stock Splits\nDate                                                                   \n2019-05-06  11.40  11.42  11.30  11.38   70306          0             0\n2019-05-07  11.37  11.39  11.31  11.38   57238          0             0\n2019-05-08  11.39  11.43  11.37  11.40   46934          0             0\n2019-05-09  11.40  11.44  11.31  11.39   67047          0             0\n2019-05-10  11.39  11.50  11.38  11.40   52593          0             0\n...           ...    ...    ...    ...     ...        ...           ...\n2020-04-28  10.00  10.04   9.95  10.00  295052          0             0\n2020-04-29  10.03  10.10   9.92  10.06  505615          0             0\n2020-04-30  10.08  10.19  10.00  10.13  553112          0             0\n2020-05-04  10.00  10.02   9.81   9.99  575246          0             0\n2020-05-05   9.98  10.00   9.88   9.98  353532          0             0\n\n[248 rows x 7 columns]",
      "text/html": "<div>\n<style scoped>\n    .dataframe tbody tr th:only-of-type {\n        vertical-align: middle;\n    }\n\n    .dataframe tbody tr th {\n        vertical-align: top;\n    }\n\n    .dataframe thead th {\n        text-align: right;\n    }\n</style>\n<table border=\"1\" class=\"dataframe\">\n  <thead>\n    <tr style=\"text-align: right;\">\n      <th></th>\n      <th>Open</th>\n      <th>High</th>\n      <th>Low</th>\n      <th>Close</th>\n      <th>Volume</th>\n      <th>Dividends</th>\n      <th>Stock Splits</th>\n    </tr>\n    <tr>\n      <th>Date</th>\n      <th></th>\n      <th></th>\n      <th></th>\n      <th></th>\n      <th></th>\n      <th></th>\n      <th></th>\n    </tr>\n  </thead>\n  <tbody>\n    <tr>\n      <th>2019-05-06</th>\n      <td>11.40</td>\n      <td>11.42</td>\n      <td>11.30</td>\n      <td>11.38</td>\n      <td>70306</td>\n      <td>0</td>\n      <td>0</td>\n    </tr>\n    <tr>\n      <th>2019-05-07</th>\n      <td>11.37</td>\n      <td>11.39</td>\n      <td>11.31</td>\n      <td>11.38</td>\n      <td>57238</td>\n      <td>0</td>\n      <td>0</td>\n    </tr>\n    <tr>\n      <th>2019-05-08</th>\n      <td>11.39</td>\n      <td>11.43</td>\n      <td>11.37</td>\n      <td>11.40</td>\n      <td>46934</td>\n      <td>0</td>\n      <td>0</td>\n    </tr>\n    <tr>\n      <th>2019-05-09</th>\n      <td>11.40</td>\n      <td>11.44</td>\n      <td>11.31</td>\n      <td>11.39</td>\n      <td>67047</td>\n      <td>0</td>\n      <td>0</td>\n    </tr>\n    <tr>\n      <th>2019-05-10</th>\n      <td>11.39</td>\n      <td>11.50</td>\n      <td>11.38</td>\n      <td>11.40</td>\n      <td>52593</td>\n      <td>0</td>\n      <td>0</td>\n    </tr>\n    <tr>\n      <th>...</th>\n      <td>...</td>\n      <td>...</td>\n      <td>...</td>\n      <td>...</td>\n      <td>...</td>\n      <td>...</td>\n      <td>...</td>\n    </tr>\n    <tr>\n      <th>2020-04-28</th>\n      <td>10.00</td>\n      <td>10.04</td>\n      <td>9.95</td>\n      <td>10.00</td>\n      <td>295052</td>\n      <td>0</td>\n      <td>0</td>\n    </tr>\n    <tr>\n      <th>2020-04-29</th>\n      <td>10.03</td>\n      <td>10.10</td>\n      <td>9.92</td>\n      <td>10.06</td>\n      <td>505615</td>\n      <td>0</td>\n      <td>0</td>\n    </tr>\n    <tr>\n      <th>2020-04-30</th>\n      <td>10.08</td>\n      <td>10.19</td>\n      <td>10.00</td>\n      <td>10.13</td>\n      <td>553112</td>\n      <td>0</td>\n      <td>0</td>\n    </tr>\n    <tr>\n      <th>2020-05-04</th>\n      <td>10.00</td>\n      <td>10.02</td>\n      <td>9.81</td>\n      <td>9.99</td>\n      <td>575246</td>\n      <td>0</td>\n      <td>0</td>\n    </tr>\n    <tr>\n      <th>2020-05-05</th>\n      <td>9.98</td>\n      <td>10.00</td>\n      <td>9.88</td>\n      <td>9.98</td>\n      <td>353532</td>\n      <td>0</td>\n      <td>0</td>\n    </tr>\n  </tbody>\n</table>\n<p>248 rows × 7 columns</p>\n</div>"
     },
     "execution_count": 9,
     "metadata": {},
     "output_type": "execute_result"
    }
   ],
   "source": [
    "msft.history(period='1y')"
   ],
   "metadata": {
    "collapsed": false,
    "pycharm": {
     "name": "#%%\n"
    }
   }
  },
  {
   "cell_type": "code",
   "execution_count": 2,
   "outputs": [
    {
     "data": {
      "text/plain": "             open   high    low  close   volume\n2020-01-02  14.30  14.45  13.99  14.12   389721\n2020-01-03  13.90  14.07  13.58  13.75   507410\n2020-01-06  13.15  13.49  13.03  13.16  2004311\n2020-01-07  13.20  13.22  12.80  12.94  1042654\n2020-01-08  12.94  12.94  12.30  12.50  1189096\n...           ...    ...    ...    ...      ...\n2020-04-28  10.00  10.04   9.95  10.00   295052\n2020-04-29  10.03  10.10   9.92  10.06   505615\n2020-04-30  10.08  10.19  10.00  10.13   553112\n2020-05-04  10.00  10.02   9.81   9.99   575246\n2020-05-05   9.98  10.00   9.88   9.98   353532\n\n[83 rows x 5 columns]",
      "text/html": "<div>\n<style scoped>\n    .dataframe tbody tr th:only-of-type {\n        vertical-align: middle;\n    }\n\n    .dataframe tbody tr th {\n        vertical-align: top;\n    }\n\n    .dataframe thead th {\n        text-align: right;\n    }\n</style>\n<table border=\"1\" class=\"dataframe\">\n  <thead>\n    <tr style=\"text-align: right;\">\n      <th></th>\n      <th>open</th>\n      <th>high</th>\n      <th>low</th>\n      <th>close</th>\n      <th>volume</th>\n    </tr>\n  </thead>\n  <tbody>\n    <tr>\n      <th>2020-01-02</th>\n      <td>14.30</td>\n      <td>14.45</td>\n      <td>13.99</td>\n      <td>14.12</td>\n      <td>389721</td>\n    </tr>\n    <tr>\n      <th>2020-01-03</th>\n      <td>13.90</td>\n      <td>14.07</td>\n      <td>13.58</td>\n      <td>13.75</td>\n      <td>507410</td>\n    </tr>\n    <tr>\n      <th>2020-01-06</th>\n      <td>13.15</td>\n      <td>13.49</td>\n      <td>13.03</td>\n      <td>13.16</td>\n      <td>2004311</td>\n    </tr>\n    <tr>\n      <th>2020-01-07</th>\n      <td>13.20</td>\n      <td>13.22</td>\n      <td>12.80</td>\n      <td>12.94</td>\n      <td>1042654</td>\n    </tr>\n    <tr>\n      <th>2020-01-08</th>\n      <td>12.94</td>\n      <td>12.94</td>\n      <td>12.30</td>\n      <td>12.50</td>\n      <td>1189096</td>\n    </tr>\n    <tr>\n      <th>...</th>\n      <td>...</td>\n      <td>...</td>\n      <td>...</td>\n      <td>...</td>\n      <td>...</td>\n    </tr>\n    <tr>\n      <th>2020-04-28</th>\n      <td>10.00</td>\n      <td>10.04</td>\n      <td>9.95</td>\n      <td>10.00</td>\n      <td>295052</td>\n    </tr>\n    <tr>\n      <th>2020-04-29</th>\n      <td>10.03</td>\n      <td>10.10</td>\n      <td>9.92</td>\n      <td>10.06</td>\n      <td>505615</td>\n    </tr>\n    <tr>\n      <th>2020-04-30</th>\n      <td>10.08</td>\n      <td>10.19</td>\n      <td>10.00</td>\n      <td>10.13</td>\n      <td>553112</td>\n    </tr>\n    <tr>\n      <th>2020-05-04</th>\n      <td>10.00</td>\n      <td>10.02</td>\n      <td>9.81</td>\n      <td>9.99</td>\n      <td>575246</td>\n    </tr>\n    <tr>\n      <th>2020-05-05</th>\n      <td>9.98</td>\n      <td>10.00</td>\n      <td>9.88</td>\n      <td>9.98</td>\n      <td>353532</td>\n    </tr>\n  </tbody>\n</table>\n<p>83 rows × 5 columns</p>\n</div>"
     },
     "execution_count": 2,
     "metadata": {},
     "output_type": "execute_result"
    }
   ],
   "source": [
    "f = web.DataReader(\"MXRF11.SA\", \"av-daily\",\n",
    "                   start=datetime(2020, 1, 1), end=datetime(2020, 5, 5),\n",
    "                   api_key=os.getenv('ALPHAVANTAGE_API_KEY'))\n",
    "f"
   ],
   "metadata": {
    "collapsed": false,
    "pycharm": {
     "name": "#%%\n"
    }
   }
  },
  {
   "cell_type": "code",
   "execution_count": 4,
   "outputs": [
    {
     "data": {
      "text/plain": "                      open   high   low  close  volume\n2020-05-04 09:12:00  10.00  10.02  9.98   9.98       0\n2020-05-04 09:13:00   9.98   9.98  9.93   9.96    3405\n2020-05-04 09:14:00   9.98   9.98  9.95   9.97    2975\n2020-05-04 09:15:00   9.98   9.99  9.97   9.97     255\n2020-05-04 09:16:00   9.99   9.99  9.97   9.98     566\n...                    ...    ...   ...    ...     ...\n2020-05-05 15:50:00  10.00  10.00  9.99   9.99    1233\n2020-05-05 15:51:00  10.00  10.00  9.99   9.99       0\n2020-05-05 15:52:00  10.00  10.00  9.99  10.00     143\n2020-05-05 15:53:00  10.00  10.00  9.98  10.00     153\n2020-05-05 15:54:00   9.98  10.00  9.98   9.98     884\n\n[802 rows x 5 columns]",
      "text/html": "<div>\n<style scoped>\n    .dataframe tbody tr th:only-of-type {\n        vertical-align: middle;\n    }\n\n    .dataframe tbody tr th {\n        vertical-align: top;\n    }\n\n    .dataframe thead th {\n        text-align: right;\n    }\n</style>\n<table border=\"1\" class=\"dataframe\">\n  <thead>\n    <tr style=\"text-align: right;\">\n      <th></th>\n      <th>open</th>\n      <th>high</th>\n      <th>low</th>\n      <th>close</th>\n      <th>volume</th>\n    </tr>\n  </thead>\n  <tbody>\n    <tr>\n      <th>2020-05-04 09:12:00</th>\n      <td>10.00</td>\n      <td>10.02</td>\n      <td>9.98</td>\n      <td>9.98</td>\n      <td>0</td>\n    </tr>\n    <tr>\n      <th>2020-05-04 09:13:00</th>\n      <td>9.98</td>\n      <td>9.98</td>\n      <td>9.93</td>\n      <td>9.96</td>\n      <td>3405</td>\n    </tr>\n    <tr>\n      <th>2020-05-04 09:14:00</th>\n      <td>9.98</td>\n      <td>9.98</td>\n      <td>9.95</td>\n      <td>9.97</td>\n      <td>2975</td>\n    </tr>\n    <tr>\n      <th>2020-05-04 09:15:00</th>\n      <td>9.98</td>\n      <td>9.99</td>\n      <td>9.97</td>\n      <td>9.97</td>\n      <td>255</td>\n    </tr>\n    <tr>\n      <th>2020-05-04 09:16:00</th>\n      <td>9.99</td>\n      <td>9.99</td>\n      <td>9.97</td>\n      <td>9.98</td>\n      <td>566</td>\n    </tr>\n    <tr>\n      <th>...</th>\n      <td>...</td>\n      <td>...</td>\n      <td>...</td>\n      <td>...</td>\n      <td>...</td>\n    </tr>\n    <tr>\n      <th>2020-05-05 15:50:00</th>\n      <td>10.00</td>\n      <td>10.00</td>\n      <td>9.99</td>\n      <td>9.99</td>\n      <td>1233</td>\n    </tr>\n    <tr>\n      <th>2020-05-05 15:51:00</th>\n      <td>10.00</td>\n      <td>10.00</td>\n      <td>9.99</td>\n      <td>9.99</td>\n      <td>0</td>\n    </tr>\n    <tr>\n      <th>2020-05-05 15:52:00</th>\n      <td>10.00</td>\n      <td>10.00</td>\n      <td>9.99</td>\n      <td>10.00</td>\n      <td>143</td>\n    </tr>\n    <tr>\n      <th>2020-05-05 15:53:00</th>\n      <td>10.00</td>\n      <td>10.00</td>\n      <td>9.98</td>\n      <td>10.00</td>\n      <td>153</td>\n    </tr>\n    <tr>\n      <th>2020-05-05 15:54:00</th>\n      <td>9.98</td>\n      <td>10.00</td>\n      <td>9.98</td>\n      <td>9.98</td>\n      <td>884</td>\n    </tr>\n  </tbody>\n</table>\n<p>802 rows × 5 columns</p>\n</div>"
     },
     "execution_count": 4,
     "metadata": {},
     "output_type": "execute_result"
    }
   ],
   "source": [
    "g = web.DataReader(\"MXRF11.SA\", \"av-intraday\", api_key=os.getenv('ALPHAVANTAGE_API_KEY'))\n",
    "g"
   ],
   "metadata": {
    "collapsed": false,
    "pycharm": {
     "name": "#%%\n"
    }
   }
  },
  {
   "cell_type": "code",
   "execution_count": 9,
   "outputs": [
    {
     "data": {
      "text/plain": "open        9.98\nhigh       10.00\nlow         9.98\nclose       9.98\nvolume    884.00\nName: 2020-05-05 15:54:00, dtype: float64"
     },
     "execution_count": 9,
     "metadata": {},
     "output_type": "execute_result"
    }
   ],
   "source": [
    "# g['open'][0]\n",
    "g.iloc[-1]"
   ],
   "metadata": {
    "collapsed": false,
    "pycharm": {
     "name": "#%%\n"
    }
   }
  }
 ],
 "metadata": {
  "kernelspec": {
   "display_name": "Python 3",
   "language": "python",
   "name": "python3"
  },
  "language_info": {
   "codemirror_mode": {
    "name": "ipython",
    "version": 2
   },
   "file_extension": ".py",
   "mimetype": "text/x-python",
   "name": "python",
   "nbconvert_exporter": "python",
   "pygments_lexer": "ipython2",
   "version": "2.7.6"
  }
 },
 "nbformat": 4,
 "nbformat_minor": 0
}